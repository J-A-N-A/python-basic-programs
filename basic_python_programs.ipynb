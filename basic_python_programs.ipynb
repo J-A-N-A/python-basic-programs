{
  "nbformat": 4,
  "nbformat_minor": 0,
  "metadata": {
    "colab": {
      "name": "basic python programs.ipynb",
      "provenance": [],
      "authorship_tag": "ABX9TyPiZ/+s/VvYlZFBSuCOP6BT",
      "include_colab_link": true
    },
    "kernelspec": {
      "name": "python3",
      "display_name": "Python 3"
    },
    "language_info": {
      "name": "python"
    }
  },
  "cells": [
    {
      "cell_type": "markdown",
      "metadata": {
        "id": "view-in-github",
        "colab_type": "text"
      },
      "source": [
        "<a href=\"https://colab.research.google.com/github/lucifer-here/python-basic-programs/blob/main/basic_python_programs.ipynb\" target=\"_parent\"><img src=\"https://colab.research.google.com/assets/colab-badge.svg\" alt=\"Open In Colab\"/></a>"
      ]
    },
    {
      "cell_type": "code",
      "metadata": {
        "colab": {
          "base_uri": "https://localhost:8080/"
        },
        "id": "ex8bh77FnjRy",
        "outputId": "d2b1b7e0-fffa-4bd3-c76e-c21ae1045237"
      },
      "source": [
        "#factorial of a number\n",
        "def fact(num):\n",
        "    if num==1:\n",
        "      return num\n",
        "    else:\n",
        "      return num * fact(num-1)  #recursive function \n",
        "\n",
        "print(fact(3))\n",
        "    "
      ],
      "execution_count": null,
      "outputs": [
        {
          "output_type": "stream",
          "name": "stdout",
          "text": [
            "6\n"
          ]
        }
      ]
    },
    {
      "cell_type": "code",
      "metadata": {
        "colab": {
          "base_uri": "https://localhost:8080/"
        },
        "id": "uTU7a2VnzH_9",
        "outputId": "7abc559b-3325-489f-edc1-2ff89ecd0d03"
      },
      "source": [
        "#palindrome or not\n",
        "def palindrome(num):\n",
        "  x1=num[::-1]   #reversing the variable\n",
        "  if x1==num:    #comparing whether it is equal to the original value \n",
        "    print(\"palindrome\")\n",
        "  else:\n",
        "    print(\"not palindrome\")\n",
        "\n",
        "\n",
        "palindrome('madan')\n",
        "\n"
      ],
      "execution_count": null,
      "outputs": [
        {
          "output_type": "stream",
          "name": "stdout",
          "text": [
            "not palindrome\n"
          ]
        }
      ]
    },
    {
      "cell_type": "code",
      "metadata": {
        "id": "lR5lxtrL0buV",
        "colab": {
          "base_uri": "https://localhost:8080/"
        },
        "outputId": "b8f9197d-a911-4e8b-862a-ed5837d3dc83"
      },
      "source": [
        "# Function for nth Fibonacci number\n",
        "#function\n",
        "def Fibonacci(n):\n",
        "\n",
        "\t# Check if input is 0 then it will\n",
        "\t# print incorrect input\n",
        "\tif n < 0:\n",
        "\t\tprint(\"Incorrect input\")\n",
        "\n",
        "\t# Check if n is 0\n",
        "\t# then it will return 0\n",
        "\telif n == 0:\n",
        "\t\treturn 0\n",
        "\n",
        "\t# Check if n is 1,2\n",
        "\t# it will return 1\n",
        "\telif n == 1 or n == 2:\n",
        "\t\treturn 1\n",
        "\n",
        "\telse:\n",
        "\t\treturn Fibonacci(n-1) + Fibonacci(n-2)\n",
        "#driver\n",
        "print(Fibonacci(int(input(\"enter a number\"))))\n",
        "\n",
        "\n",
        "\n",
        "\n",
        "\n"
      ],
      "execution_count": null,
      "outputs": [
        {
          "output_type": "stream",
          "name": "stdout",
          "text": [
            "enter a number0\n",
            "0\n"
          ]
        }
      ]
    },
    {
      "cell_type": "code",
      "metadata": {
        "colab": {
          "base_uri": "https://localhost:8080/"
        },
        "id": "wETjMM3z-6Ev",
        "outputId": "c56e2fe4-bbe0-49e1-c7e3-1cdac26698a3"
      },
      "source": [
        "#print fibbonacci series for n \n",
        "\n",
        "def fib(n):\n",
        "  if n<0:\n",
        "    return 0\n",
        "  elif n==1:\n",
        "    return 1\n",
        "  else:\n",
        "    return fib(n-2)+fib(n-1)\n",
        "  \n",
        "\n",
        "n=int(input(\"enter a number\"))\n",
        "for n in range(0,n):\n",
        "  print(fib(n),\" \")\n"
      ],
      "execution_count": null,
      "outputs": [
        {
          "output_type": "stream",
          "name": "stdout",
          "text": [
            "enter a number10\n",
            "0  \n",
            "1  \n",
            "1  \n",
            "2  \n",
            "3  \n",
            "5  \n",
            "8  \n",
            "13  \n",
            "21  \n",
            "34  \n"
          ]
        }
      ]
    },
    {
      "cell_type": "code",
      "metadata": {
        "colab": {
          "base_uri": "https://localhost:8080/"
        },
        "id": "uCZ9pplU3d0l",
        "outputId": "71e9eb62-9b46-48de-e006-eb6eb3f2c6df"
      },
      "source": [
        "#amstrong number or not\n",
        "#amstrong is a such that sum of cube of all its digits is equal to the same number\n",
        "def isamstrong(num):\n",
        "  s=0\n",
        "  temp=num\n",
        "  while temp>0:\n",
        "    c=temp%10\n",
        "    s += c**3\n",
        "    temp//=10\n",
        "  if num==s:\n",
        "    print(\"amstrong\")\n",
        "  else:\n",
        "    print(\"not amstrong\")\n",
        "  \n",
        "num=int(input(\"enter a number\"))\n",
        "print(isamstrong(num))\n",
        "   "
      ],
      "execution_count": null,
      "outputs": [
        {
          "output_type": "stream",
          "name": "stdout",
          "text": [
            "enter a number351\n",
            "not amstrong\n",
            "None\n"
          ]
        }
      ]
    },
    {
      "cell_type": "code",
      "metadata": {
        "colab": {
          "base_uri": "https://localhost:8080/"
        },
        "id": "RLw6axhA8lpt",
        "outputId": "d5f7e1c4-6f95-45d0-ca73-67f5250493bd"
      },
      "source": [
        "#calculator program\n",
        "def add(a,b):\n",
        "  return a+b\n",
        "def subtract(a,b):\n",
        "  return a-b\n",
        "def multiply(a,b):\n",
        "  return a*b\n",
        "def divide(a,b):\n",
        "  return a/b\n",
        "def sqr(a,b):\n",
        "  return a**b\n",
        "def si(p,r,t):\n",
        "  return (p*r*t)/100\n",
        "def ci(p,r,t):\n",
        "  return p* pow((1+r/100),t)\n",
        "\n",
        "\n",
        "print(si(10000,10,5))\n",
        "print(ci)"
      ],
      "execution_count": null,
      "outputs": [
        {
          "output_type": "stream",
          "name": "stdout",
          "text": [
            "5000.0\n"
          ]
        }
      ]
    },
    {
      "cell_type": "code",
      "metadata": {
        "colab": {
          "base_uri": "https://localhost:8080/"
        },
        "id": "QT6TuBZlD6x0",
        "outputId": "9c2147e3-c65e-4f80-9034-c0a499681a2b"
      },
      "source": [
        "#pattern program\n",
        "num=5\n",
        "m=(2*num)-2\n",
        "for i in range(0,num):\n",
        "  for j in range(0,m):\n",
        "    print(end=\"\")# \n",
        "  m=m-1\n",
        "  for j in range(0,i+1):\n",
        "    print(\"*\",end=' ')\n",
        "  print(\" \")"
      ],
      "execution_count": null,
      "outputs": [
        {
          "output_type": "stream",
          "name": "stdout",
          "text": [
            "*  \n",
            "* *  \n",
            "* * *  \n",
            "* * * *  \n",
            "* * * * *  \n"
          ]
        }
      ]
    },
    {
      "cell_type": "code",
      "metadata": {
        "colab": {
          "base_uri": "https://localhost:8080/"
        },
        "id": "Wd-knWGMIrjz",
        "outputId": "ef62833c-d6ce-4871-fe6e-66e0edce43b2"
      },
      "source": [
        "#leap year\n",
        "#leap year has 29days in the month of feb and occurs every 4 years\n",
        "\n",
        "year=int(input(\"enter a year\"))\n",
        "if year % 400==0:\n",
        "   print(\"leap year\")\n",
        "if year % 4==0:\n",
        "  print(\"leap year\")\n",
        "elif year %100==0:\n",
        "  print(\"not a leap year\")\n",
        "else:\n",
        "  print(\"not a leap year\")"
      ],
      "execution_count": null,
      "outputs": [
        {
          "output_type": "stream",
          "name": "stdout",
          "text": [
            "enter a year1900\n",
            "leap year\n"
          ]
        }
      ]
    },
    {
      "cell_type": "code",
      "metadata": {
        "id": "yRNoMTG_Kuf3",
        "colab": {
          "base_uri": "https://localhost:8080/"
        },
        "outputId": "8ad21dd6-1145-4829-a78c-7c5480b8df84"
      },
      "source": [
        "#prime number or not\n",
        "def isprime(n):\n",
        "  if n==1:\n",
        "    print(\"neither a prime nor composite\")\n",
        "  else:\n",
        "    for i in range(2,n):\n",
        "        if n % i==0:\n",
        "          print(\"not prime number\")\n",
        "          break\n",
        "        else:\n",
        "          print(\"prime number\")\n",
        "          break\n",
        "        \n",
        "n=int(input(\"enter a number\"))\n",
        "isprime(n)"
      ],
      "execution_count": null,
      "outputs": [
        {
          "output_type": "stream",
          "name": "stdout",
          "text": [
            "enter a number1\n",
            "neither a prime nor composite\n"
          ]
        }
      ]
    },
    {
      "cell_type": "code",
      "metadata": {
        "colab": {
          "base_uri": "https://localhost:8080/"
        },
        "id": "Jxfl2EI0P6nZ",
        "outputId": "8c4b399d-8981-44f9-b2ae-27a3efd2f0da"
      },
      "source": [
        "#area in python\n",
        "import math #has the math functions\n",
        "pi=math.pi\n",
        "def circle(radius):\n",
        "  return pi*(radius**2)\n",
        "def cube(side):\n",
        "  return side**2\n",
        "def cylinder(radius,height):\n",
        "  return  2*pi*radius + 2*pi*h\n",
        "def sphere(radius):\n",
        "  return 2*pi*(radius**2)\n",
        "\n",
        "\n",
        "print(round(circle(4)))  #use round when ever you need to round off a number\n"
      ],
      "execution_count": null,
      "outputs": [
        {
          "output_type": "stream",
          "name": "stdout",
          "text": [
            "50\n"
          ]
        }
      ]
    },
    {
      "cell_type": "code",
      "metadata": {
        "colab": {
          "base_uri": "https://localhost:8080/"
        },
        "id": "jG03jgw1SFci",
        "outputId": "fb23c88c-e47e-4517-f52e-3eca7de8c985"
      },
      "source": [
        "#python program to reverse a list\n",
        "\n",
        "\n",
        "l=[1,2,3,4,5]\n",
        "print(l[::-1])   #one way\n",
        "l.reverse()      #another way using built in function\n",
        "print(l)"
      ],
      "execution_count": null,
      "outputs": [
        {
          "output_type": "stream",
          "name": "stdout",
          "text": [
            "[5, 4, 3, 2, 1]\n",
            "[5, 4, 3, 2, 1]\n"
          ]
        }
      ]
    },
    {
      "cell_type": "code",
      "metadata": {
        "colab": {
          "base_uri": "https://localhost:8080/"
        },
        "id": "asTTLWHCErDb",
        "outputId": "13d002da-cede-4328-dbd5-d01cdfb7ed67"
      },
      "source": [
        "#REMOVE ALL DUPLICATE ELEMENTS FROM LIST\n",
        "list1=[1,2,1,2,5,7,8]\n",
        "#list1=set(list1)   #using set #method 1\n",
        "print(list1)\n",
        "#or \n",
        "res=[]\n",
        "for i in list1:    #method 2\n",
        "  if i not in res:\n",
        "        res.append(i)\n",
        "print(res)\n",
        "\n",
        "#there are many methods use the one you like :)"
      ],
      "execution_count": null,
      "outputs": [
        {
          "output_type": "stream",
          "name": "stdout",
          "text": [
            "[1, 2, 1, 2, 5, 7, 8]\n",
            "[1, 2, 5, 7, 8]\n"
          ]
        }
      ]
    },
    {
      "cell_type": "code",
      "metadata": {
        "colab": {
          "base_uri": "https://localhost:8080/"
        },
        "id": "RMEz5ExgFJGf",
        "outputId": "672fd910-c018-4ae8-dde2-4e1222736d7d"
      },
      "source": [
        "#printing table(multiplication)\n",
        "num=int(input(\"enter a number: \"))\n",
        "last=int(input(\"till?: \"))\n",
        "for i in range(1,last+1):\n",
        "  print(num,'x',i,'=',num*i)\n"
      ],
      "execution_count": 7,
      "outputs": [
        {
          "output_type": "stream",
          "name": "stdout",
          "text": [
            "enter a number: 12\n",
            "till?: 10\n",
            "12 x 1 = 12\n",
            "12 x 2 = 24\n",
            "12 x 3 = 36\n",
            "12 x 4 = 48\n",
            "12 x 5 = 60\n",
            "12 x 6 = 72\n",
            "12 x 7 = 84\n",
            "12 x 8 = 96\n",
            "12 x 9 = 108\n",
            "12 x 10 = 120\n"
          ]
        }
      ]
    },
    {
      "cell_type": "code",
      "metadata": {
        "colab": {
          "base_uri": "https://localhost:8080/"
        },
        "id": "OEKY5Ac3HfL5",
        "outputId": "c4ccc296-ceee-42d7-8fee-82bcc1ae10e8"
      },
      "source": [
        "#global variables vs local variables(for understanding purpose)\n",
        "\n",
        "x=\"hello world\"#here x is global variable\n",
        "\n",
        "def fun():\n",
        "  y=\"hola\" #here y is local variable\n",
        "  print(\"hello\"+x+y)\n",
        "fun()"
      ],
      "execution_count": 15,
      "outputs": [
        {
          "output_type": "stream",
          "name": "stdout",
          "text": [
            "hellohello worldhola\n"
          ]
        }
      ]
    },
    {
      "cell_type": "code",
      "metadata": {
        "colab": {
          "base_uri": "https://localhost:8080/"
        },
        "id": "Xg-AJCmJJWgB",
        "outputId": "727222fc-8413-4e36-fb8c-ca3859f939ef"
      },
      "source": [
        "#write a class for name and age(for understanding purpose)\n",
        "class person:\n",
        "  def __init__(self,name,age):\n",
        "    self.name=name\n",
        "    self.age=age\n",
        "p1=person(\"akash\",\"22\")\n",
        "print(p1.name) \n",
        "print(p1.age)"
      ],
      "execution_count": 21,
      "outputs": [
        {
          "output_type": "stream",
          "name": "stdout",
          "text": [
            "akash\n",
            "22\n"
          ]
        }
      ]
    },
    {
      "cell_type": "code",
      "metadata": {
        "colab": {
          "base_uri": "https://localhost:8080/"
        },
        "id": "p2KvZBnyKlYn",
        "outputId": "739ce761-65da-4da1-ae90-7bfd153f7056"
      },
      "source": [
        "#matrix operations using numpy\n",
        "import numpy\n",
        "x=numpy.array([[1,2,3],[3,4,6],[2,4,5]])\n",
        "y=numpy.array([[3,4,4],[3,5,7],[3,6,7]])\n",
        "print(\"add \\n\",numpy.add(x,y))\n",
        "print(\"subtract \\n\",numpy.subtract(x,y))\n",
        "print(\"multiply \\n\",numpy.multiply(x,y))\n",
        "print(\"divide \\n\",numpy.divide(x,y))\n",
        "print(\"dot \\n\",numpy.dot(x,y))\n",
        "print(\"transpose \\n\",x.T)\n",
        "\n",
        "#and so on\n",
        "\n"
      ],
      "execution_count": 35,
      "outputs": [
        {
          "output_type": "stream",
          "name": "stdout",
          "text": [
            "add \n",
            " [[ 4  6  7]\n",
            " [ 6  9 13]\n",
            " [ 5 10 12]]\n",
            "subtract \n",
            " [[-2 -2 -1]\n",
            " [ 0 -1 -1]\n",
            " [-1 -2 -2]]\n",
            "multiply \n",
            " [[ 3  8 12]\n",
            " [ 9 20 42]\n",
            " [ 6 24 35]]\n",
            "divide \n",
            " [[0.33333333 0.5        0.75      ]\n",
            " [1.         0.8        0.85714286]\n",
            " [0.66666667 0.66666667 0.71428571]]\n",
            "dot \n",
            " [[18 32 39]\n",
            " [39 68 82]\n",
            " [33 58 71]]\n",
            "transpose \n",
            " [[1 3 2]\n",
            " [2 4 4]\n",
            " [3 6 5]]\n"
          ]
        }
      ]
    },
    {
      "cell_type": "code",
      "metadata": {
        "colab": {
          "base_uri": "https://localhost:8080/"
        },
        "id": "qOQKjzCESFZ0",
        "outputId": "b68221b3-0e6e-4ca2-d998-c35874364b12"
      },
      "source": [
        "#Bubble sort\n",
        "def BubbleSort(list1):\n",
        "  l=len(list1)\n",
        "  for i in range(0,l-1):\n",
        "    for j in range(l-1):\n",
        "      if (list1[j]>list1[j+1]):\n",
        "        temp=list1[i]\n",
        "        list1[j]=list1[j+1]\n",
        "        list1[j+1]=temp\n",
        "  return list1\n",
        "\n",
        "\n",
        "list1=[1,3,4,5,6,7,8]\n",
        "print(BubbleSort(list1))"
      ],
      "execution_count": 42,
      "outputs": [
        {
          "output_type": "stream",
          "name": "stdout",
          "text": [
            "[1, 3, 4, 5, 6, 7, 8]\n"
          ]
        }
      ]
    },
    {
      "cell_type": "code",
      "metadata": {
        "colab": {
          "base_uri": "https://localhost:8080/"
        },
        "id": "Jdh_IRzrTTYo",
        "outputId": "8556c91d-fb50-4346-b87a-ba017cf1b082"
      },
      "source": [
        "#sort using built in function for list\n",
        "list1=[1,3,4,5,6,7,8]\n",
        "list1.sort()\n",
        "print(\"sort\",list1)\n",
        "#max built in function\n",
        "print(\"max\",max(list1))\n",
        "#reverse built in function\n",
        "list1.reverse()\n",
        "print(\"reverse\",list1)\n",
        "#built in remove function\n",
        "list1.remove(4)\n",
        "print(\"remove\",list1)\n",
        "#built in index function\n",
        "list1.index(3)\n",
        "#append\n",
        "list1.append(4)\n",
        "print(\"append\",list1)\n",
        "#extend\n",
        "list2=[1,23,4]\n",
        "list1.extend(list2)\n",
        "print(\"extend\",list1)\n",
        "\n",
        "#and so on.."
      ],
      "execution_count": 58,
      "outputs": [
        {
          "output_type": "stream",
          "name": "stdout",
          "text": [
            "sort [1, 3, 4, 5, 6, 7, 8]\n",
            "max 8\n",
            "reverse [8, 7, 6, 5, 4, 3, 1]\n",
            "remove [8, 7, 6, 5, 3, 1]\n",
            "append [8, 7, 6, 5, 3, 1, 4]\n",
            "extend [8, 7, 6, 5, 3, 1, 4, 1, 23, 4]\n"
          ]
        }
      ]
    }
  ]
}